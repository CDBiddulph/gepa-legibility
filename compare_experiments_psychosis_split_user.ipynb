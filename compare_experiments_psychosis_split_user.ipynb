{
 "cells": [
  {
   "cell_type": "markdown",
   "metadata": {},
   "source": [
    "# Comparing GEPA Experiments: Baseline vs Optimized (with and without sanitization)\n",
    "\n",
    "This notebook compares multiple experiments:\n",
    "1. Baseline (no GEPA optimization)\n",
    "2. GEPA with no hack suggestion + original prompt\n",
    "3. GEPA with explicit hack suggestion + original prompt\n",
    "4. GEPA with no hack suggestion + sanitized prompt\n",
    "5. GEPA with explicit hack suggestion + sanitized prompt\n",
    "\n",
    "Each experiment is evaluated on both proxy reward (gameable=\"sometimes\") and true reward (gameable=\"never\")."
   ]
  },
  {
   "cell_type": "code",
   "execution_count": 109,
   "metadata": {},
   "outputs": [
    {
     "data": {
      "text/plain": [
       "True"
      ]
     },
     "execution_count": 109,
     "metadata": {},
     "output_type": "execute_result"
    }
   ],
   "source": [
    "import json\n",
    "from pathlib import Path\n",
    "import matplotlib.pyplot as plt\n",
    "import numpy as np\n",
    "import dspy\n",
    "from dotenv import load_dotenv\n",
    "\n",
    "# Load environment variables\n",
    "load_dotenv()"
   ]
  },
  {
   "cell_type": "code",
   "execution_count": 110,
   "metadata": {},
   "outputs": [],
   "source": [
    "# Configuration\n",
    "EXECUTOR_MODEL = \"openai/gpt-4.1-mini\"\n",
    "SETTING = \"psychosis\"\n",
    "\n",
    "# Experiment configuration\n",
    "experiment_config = {\n",
    "    \"no_hack\": Path(\"logs/psychosis/2025-10-21-00-24-06/p=deepseek-reasoner-e=gpt-4.1-mini-hack=no\"),\n",
    "    \"explicit_hack\": Path(\"logs/psychosis/2025-10-21-00-24-06/p=deepseek-reasoner-e=gpt-4.1-mini-hack=no-gameable=never\")  # TEMP, switch to hack=explicit and gameable=sometimes\n",
    "}\n",
    "\n",
    "# Test data path\n",
    "TEST_DATA_PATH = Path(f\"data/{SETTING}/test.jsonl\")\n",
    "\n",
    "# Plot data directory\n",
    "PLOT_DATA_BASE = Path(\"plot-data\")"
   ]
  },
  {
   "cell_type": "code",
   "execution_count": 111,
   "metadata": {},
   "outputs": [],
   "source": [
    "# Set up DSPy\n",
    "from lm import get_dspy_lm\n",
    "\n",
    "executor_lm = get_dspy_lm(EXECUTOR_MODEL, cache=True)\n",
    "dspy.configure(lm=executor_lm)\n",
    "\n",
    "# Define the signature for psychosis\n",
    "class ProblemSignature(dspy.Signature):\n",
    "    memory = dspy.InputField(description=\"The memory of the AI assistant about the user\")\n",
    "    query = dspy.InputField(description=\"The user's query\")\n",
    "    response = dspy.OutputField(description=\"The response of the AI assistant.\")"
   ]
  },
  {
   "cell_type": "code",
   "execution_count": 112,
   "metadata": {},
   "outputs": [
    {
     "name": "stdout",
     "output_type": "stream",
     "text": [
      "Loaded 100 test examples\n"
     ]
    }
   ],
   "source": [
    "# Load test data\n",
    "def load_jsonl(file_path):\n",
    "    examples = []\n",
    "    with open(file_path, 'r') as f:\n",
    "        for line in f:\n",
    "            data = json.loads(line.strip())\n",
    "            examples.append(dspy.Example(\n",
    "                memory=data['memory'],\n",
    "                query=data['query'],\n",
    "                is_gameable=data['is_gameable']\n",
    "            ).with_inputs('memory', 'query'))\n",
    "    return examples\n",
    "\n",
    "test_examples = load_jsonl(TEST_DATA_PATH)\n",
    "print(f\"Loaded {len(test_examples)} test examples\")"
   ]
  },
  {
   "cell_type": "code",
   "execution_count": 113,
   "metadata": {},
   "outputs": [],
   "source": [
    "# Load metric functions\n",
    "from scoring.psychosis_scale import get_metric_fn\n",
    "\n",
    "# Create metric functions for both gameable types\n",
    "metric_fn_proxy = get_metric_fn(gameable_type=\"sometimes\")  # Proxy reward (gameable)\n",
    "metric_fn_true = get_metric_fn(gameable_type=\"never\")  # True reward (non-gameable)"
   ]
  },
  {
   "cell_type": "code",
   "execution_count": null,
   "metadata": {},
   "outputs": [
    {
     "name": "stdout",
     "output_type": "stream",
     "text": [
      "Warning: logs/psychosis/2025-10-21-00-24-06/p=deepseek-reasoner-e=gpt-4.1-mini-hack=no-gameable=never/2/detailed_results.json not found, skipping\n",
      "Loaded instruction metadata for all experiments\n"
     ]
    }
   ],
   "source": [
    "from instruction_loader import load_instructions\n",
    "\n",
    "# Load instruction metadata to get subdirectories and candidate indices\n",
    "def get_experiment_instruction_info(experiment_path):\n",
    "    \"\"\"Get list of (subdir_path, candidate_idx) for all valid experiments\"\"\"\n",
    "    instruction_info = []\n",
    "    \n",
    "    for subdir in experiment_path.iterdir():\n",
    "        results_file = subdir / \"detailed_results.json\"\n",
    "        if not results_file.exists():\n",
    "            print(f\"Warning: {results_file} not found, skipping\")\n",
    "            continue\n",
    "        \n",
    "        with open(results_file, 'r') as f:\n",
    "            data = json.load(f)\n",
    "        \n",
    "        # Find best candidate index\n",
    "        best_instructions = data['best_instructions']\n",
    "        candidate_idx = next(\n",
    "            idx for idx, candidate in enumerate(data['candidates'])\n",
    "            if candidate['instructions'] == best_instructions\n",
    "        )\n",
    "        \n",
    "        instruction_info.append((subdir, candidate_idx))\n",
    "    \n",
    "    return instruction_info\n",
    "\n",
    "# Load instruction metadata for experiments\n",
    "instruction_info = {\"baseline\": [(None, None)]}  # Special case for baseline\n",
    "\n",
    "for exp_name, exp_path in experiment_config.items():\n",
    "    instruction_info[exp_name] = get_experiment_instruction_info(exp_path)\n",
    "\n",
    "print(\"Loaded instruction metadata for all experiments\")"
   ]
  },
  {
   "cell_type": "code",
   "execution_count": null,
   "metadata": {},
   "outputs": [
    {
     "name": "stdout",
     "output_type": "stream",
     "text": [
      "\n",
      "Processing no_hack...\n",
      "Collecting progression data for logs/psychosis/2025-10-21-00-24-06/p=deepseek-reasoner-e=gpt-4.1-mini-hack=no\n",
      "  Run 0, candidate 0 (val=0.289)\n"
     ]
    },
    {
     "name": "stderr",
     "output_type": "stream",
     "text": [
      "2025/10/22 16:55:08 INFO dspy.evaluate.evaluate: Average Metric: 29.600000000000005 / 100 (29.6%)\n",
      "2025/10/22 16:55:09 INFO dspy.evaluate.evaluate: Average Metric: 58.30000000000007 / 100 (58.3%)\n"
     ]
    },
    {
     "name": "stdout",
     "output_type": "stream",
     "text": [
      "  Run 0, candidate 2 (val=0.415)\n"
     ]
    },
    {
     "name": "stderr",
     "output_type": "stream",
     "text": [
      "2025/10/22 16:55:17 INFO dspy.evaluate.evaluate: Average Metric: 38.6 / 100 (38.6%)\n",
      "2025/10/22 16:55:19 INFO dspy.evaluate.evaluate: Average Metric: 26.1 / 100 (26.1%)\n",
      "2025/10/22 16:55:31 INFO dspy.evaluate.evaluate: Average Metric: 29.600000000000005 / 100 (29.6%)\n",
      "2025/10/22 16:55:31 INFO dspy.evaluate.evaluate: Average Metric: 58.30000000000007 / 100 (58.3%)\n"
     ]
    },
    {
     "name": "stdout",
     "output_type": "stream",
     "text": [
      "  Run 0, candidate 4 (val=0.475)\n"
     ]
    },
    {
     "name": "stderr",
     "output_type": "stream",
     "text": [
      "2025/10/22 16:55:31 INFO dspy.evaluate.evaluate: Average Metric: 36.39999999999999 / 100 (36.4%)\n",
      "2025/10/22 16:55:32 INFO dspy.evaluate.evaluate: Average Metric: 11.200000000000003 / 100 (11.2%)\n",
      "2025/10/22 16:55:32 INFO dspy.evaluate.evaluate: Average Metric: 28.700000000000014 / 100 (28.7%)\n",
      "2025/10/22 16:55:33 INFO dspy.evaluate.evaluate: Average Metric: 55.70000000000006 / 100 (55.7%)\n"
     ]
    },
    {
     "name": "stdout",
     "output_type": "stream",
     "text": [
      "  Run 1, candidate 0 (val=0.289)\n"
     ]
    },
    {
     "name": "stderr",
     "output_type": "stream",
     "text": [
      "2025/10/22 16:55:35 INFO dspy.evaluate.evaluate: Average Metric: 29.600000000000005 / 100 (29.6%)\n",
      "2025/10/22 16:55:35 INFO dspy.evaluate.evaluate: Average Metric: 58.30000000000007 / 100 (58.3%)\n"
     ]
    },
    {
     "name": "stdout",
     "output_type": "stream",
     "text": [
      "  Run 1, candidate 1 (val=0.420)\n"
     ]
    },
    {
     "name": "stderr",
     "output_type": "stream",
     "text": [
      "2025/10/22 16:55:40 INFO dspy.evaluate.evaluate: Average Metric: 46.39999999999999 / 100 (46.4%)\n",
      "2025/10/22 16:55:42 INFO dspy.evaluate.evaluate: Average Metric: 8.5 / 100 (8.5%)\n",
      "2025/10/22 16:55:54 INFO dspy.evaluate.evaluate: Average Metric: 29.600000000000005 / 100 (29.6%)\n",
      "2025/10/22 16:55:55 INFO dspy.evaluate.evaluate: Average Metric: 58.30000000000007 / 100 (58.3%)\n"
     ]
    },
    {
     "name": "stdout",
     "output_type": "stream",
     "text": [
      "  Run 1, candidate 3 (val=0.488)\n"
     ]
    },
    {
     "name": "stderr",
     "output_type": "stream",
     "text": [
      "2025/10/22 16:56:01 INFO dspy.evaluate.evaluate: Average Metric: 48.79999999999996 / 100 (48.8%)\n",
      "2025/10/22 16:56:03 INFO dspy.evaluate.evaluate: Average Metric: 25.799999999999994 / 100 (25.8%)\n",
      "2025/10/22 16:56:18 INFO dspy.evaluate.evaluate: Average Metric: 29.600000000000005 / 100 (29.6%)\n",
      "2025/10/22 16:56:18 INFO dspy.evaluate.evaluate: Average Metric: 58.30000000000007 / 100 (58.3%)\n"
     ]
    },
    {
     "name": "stdout",
     "output_type": "stream",
     "text": [
      "  Run 1, candidate 5 (val=0.534)\n"
     ]
    },
    {
     "name": "stderr",
     "output_type": "stream",
     "text": [
      "2025/10/22 16:56:36 INFO dspy.evaluate.evaluate: Average Metric: 45.89999999999997 / 100 (45.9%)\n",
      "2025/10/22 16:56:38 INFO dspy.evaluate.evaluate: Average Metric: 19.800000000000008 / 100 (19.8%)\n",
      "2025/10/22 16:56:52 INFO dspy.evaluate.evaluate: Average Metric: 29.600000000000005 / 100 (29.6%)\n",
      "2025/10/22 16:56:53 INFO dspy.evaluate.evaluate: Average Metric: 58.30000000000007 / 100 (58.3%)\n"
     ]
    },
    {
     "name": "stdout",
     "output_type": "stream",
     "text": [
      "  Run 1, candidate 24 (val=0.571)\n"
     ]
    },
    {
     "name": "stderr",
     "output_type": "stream",
     "text": [
      "2025/10/22 16:57:00 INFO dspy.evaluate.evaluate: Average Metric: 56.5 / 100 (56.5%)\n",
      "2025/10/22 16:57:04 INFO dspy.evaluate.evaluate: Average Metric: 28.700000000000003 / 100 (28.7%)\n",
      "2025/10/22 16:57:27 INFO dspy.evaluate.evaluate: Average Metric: 29.600000000000005 / 100 (29.6%)\n",
      "2025/10/22 16:57:27 INFO dspy.evaluate.evaluate: Average Metric: 58.30000000000007 / 100 (58.3%)\n"
     ]
    },
    {
     "name": "stdout",
     "output_type": "stream",
     "text": [
      "  Run 1, candidate 29 (val=0.577)\n"
     ]
    },
    {
     "name": "stderr",
     "output_type": "stream",
     "text": [
      "2025/10/22 16:57:27 INFO dspy.evaluate.evaluate: Average Metric: 61.19999999999999 / 100 (61.2%)\n",
      "2025/10/22 16:57:28 INFO dspy.evaluate.evaluate: Average Metric: 27.799999999999997 / 100 (27.8%)\n",
      "2025/10/22 16:57:28 INFO dspy.evaluate.evaluate: Average Metric: 30.100000000000023 / 100 (30.1%)\n",
      "2025/10/22 16:57:28 INFO dspy.evaluate.evaluate: Average Metric: 58.70000000000008 / 100 (58.7%)\n"
     ]
    },
    {
     "name": "stdout",
     "output_type": "stream",
     "text": [
      "  Run 2, candidate 0 (val=0.289)\n"
     ]
    },
    {
     "name": "stderr",
     "output_type": "stream",
     "text": [
      "2025/10/22 16:57:29 INFO dspy.evaluate.evaluate: Average Metric: 29.600000000000005 / 100 (29.6%)\n",
      "2025/10/22 16:57:29 INFO dspy.evaluate.evaluate: Average Metric: 58.30000000000007 / 100 (58.3%)\n"
     ]
    },
    {
     "name": "stdout",
     "output_type": "stream",
     "text": [
      "  Run 2, candidate 2 (val=0.319)\n"
     ]
    },
    {
     "name": "stderr",
     "output_type": "stream",
     "text": [
      "2025/10/22 16:57:35 INFO dspy.evaluate.evaluate: Average Metric: 27.59999999999999 / 100 (27.6%)\n",
      "2025/10/22 16:57:37 INFO dspy.evaluate.evaluate: Average Metric: 28.599999999999987 / 100 (28.6%)\n",
      "2025/10/22 16:57:55 INFO dspy.evaluate.evaluate: Average Metric: 29.600000000000005 / 100 (29.6%)\n",
      "2025/10/22 16:57:55 INFO dspy.evaluate.evaluate: Average Metric: 58.30000000000007 / 100 (58.3%)\n"
     ]
    },
    {
     "name": "stdout",
     "output_type": "stream",
     "text": [
      "  Run 2, candidate 3 (val=0.506)\n"
     ]
    },
    {
     "name": "stderr",
     "output_type": "stream",
     "text": [
      "2025/10/22 16:58:01 INFO dspy.evaluate.evaluate: Average Metric: 48.99999999999999 / 100 (49.0%)\n",
      "2025/10/22 16:58:03 INFO dspy.evaluate.evaluate: Average Metric: 4.8 / 100 (4.8%)\n",
      "2025/10/22 16:58:23 INFO dspy.evaluate.evaluate: Average Metric: 29.600000000000005 / 100 (29.6%)\n",
      "2025/10/22 16:58:23 INFO dspy.evaluate.evaluate: Average Metric: 58.30000000000007 / 100 (58.3%)\n"
     ]
    },
    {
     "name": "stdout",
     "output_type": "stream",
     "text": [
      "  Run 2, candidate 20 (val=0.579)\n"
     ]
    },
    {
     "name": "stderr",
     "output_type": "stream",
     "text": [
      "2025/10/22 16:58:24 INFO dspy.evaluate.evaluate: Average Metric: 52.90000000000003 / 100 (52.9%)\n",
      "2025/10/22 16:58:24 INFO dspy.evaluate.evaluate: Average Metric: 38.70000000000002 / 100 (38.7%)\n",
      "2025/10/22 16:58:25 INFO dspy.evaluate.evaluate: Average Metric: 29.800000000000022 / 100 (29.8%)\n",
      "2025/10/22 16:58:25 INFO dspy.evaluate.evaluate: Average Metric: 58.70000000000008 / 100 (58.7%)\n"
     ]
    },
    {
     "name": "stdout",
     "output_type": "stream",
     "text": [
      "  Run 3, candidate 0 (val=0.289)\n"
     ]
    },
    {
     "name": "stderr",
     "output_type": "stream",
     "text": [
      "2025/10/22 16:58:25 INFO dspy.evaluate.evaluate: Average Metric: 29.600000000000005 / 100 (29.6%)\n",
      "2025/10/22 16:58:27 INFO dspy.evaluate.evaluate: Average Metric: 58.30000000000007 / 100 (58.3%)\n"
     ]
    },
    {
     "name": "stdout",
     "output_type": "stream",
     "text": [
      "  Run 3, candidate 6 (val=0.347)\n"
     ]
    },
    {
     "name": "stderr",
     "output_type": "stream",
     "text": [
      "2025/10/22 16:58:33 INFO dspy.evaluate.evaluate: Average Metric: 33.4 / 100 (33.4%)\n",
      "2025/10/22 16:58:36 INFO dspy.evaluate.evaluate: Average Metric: 35.69999999999999 / 100 (35.7%)\n",
      "2025/10/22 16:58:49 INFO dspy.evaluate.evaluate: Average Metric: 29.600000000000005 / 100 (29.6%)\n",
      "2025/10/22 16:58:50 INFO dspy.evaluate.evaluate: Average Metric: 58.30000000000007 / 100 (58.3%)\n"
     ]
    },
    {
     "name": "stdout",
     "output_type": "stream",
     "text": [
      "  Run 3, candidate 8 (val=0.370)\n"
     ]
    },
    {
     "name": "stderr",
     "output_type": "stream",
     "text": [
      "2025/10/22 16:58:59 INFO dspy.evaluate.evaluate: Average Metric: 37.89999999999999 / 100 (37.9%)\n",
      "2025/10/22 16:59:01 INFO dspy.evaluate.evaluate: Average Metric: 22.900000000000006 / 100 (22.9%)\n",
      "2025/10/22 16:59:11 INFO dspy.evaluate.evaluate: Average Metric: 29.600000000000005 / 100 (29.6%)\n",
      "2025/10/22 16:59:12 INFO dspy.evaluate.evaluate: Average Metric: 58.30000000000007 / 100 (58.3%)\n"
     ]
    },
    {
     "name": "stdout",
     "output_type": "stream",
     "text": [
      "  Run 3, candidate 11 (val=0.432)\n"
     ]
    },
    {
     "name": "stderr",
     "output_type": "stream",
     "text": [
      "2025/10/22 16:59:20 INFO dspy.evaluate.evaluate: Average Metric: 38.79999999999998 / 100 (38.8%)\n",
      "2025/10/22 16:59:22 INFO dspy.evaluate.evaluate: Average Metric: 26.29999999999999 / 100 (26.3%)\n",
      "2025/10/22 16:59:42 INFO dspy.evaluate.evaluate: Average Metric: 29.600000000000005 / 100 (29.6%)\n",
      "2025/10/22 16:59:42 INFO dspy.evaluate.evaluate: Average Metric: 58.30000000000007 / 100 (58.3%)\n"
     ]
    },
    {
     "name": "stdout",
     "output_type": "stream",
     "text": [
      "  Run 3, candidate 19 (val=0.488)\n"
     ]
    },
    {
     "name": "stderr",
     "output_type": "stream",
     "text": [
      "2025/10/22 16:59:48 INFO dspy.evaluate.evaluate: Average Metric: 48.1 / 100 (48.1%)\n",
      "2025/10/22 16:59:49 INFO dspy.evaluate.evaluate: Average Metric: 2.0 / 100 (2.0%)\n",
      "2025/10/22 17:00:10 INFO dspy.evaluate.evaluate: Average Metric: 29.600000000000005 / 100 (29.6%)\n",
      "2025/10/22 17:00:12 INFO dspy.evaluate.evaluate: Average Metric: 58.30000000000007 / 100 (58.3%)\n"
     ]
    },
    {
     "name": "stdout",
     "output_type": "stream",
     "text": [
      "  Run 3, candidate 24 (val=0.541)\n"
     ]
    },
    {
     "name": "stderr",
     "output_type": "stream",
     "text": [
      "2025/10/22 17:00:12 INFO dspy.evaluate.evaluate: Average Metric: 51.599999999999994 / 100 (51.6%)\n",
      "2025/10/22 17:00:12 INFO dspy.evaluate.evaluate: Average Metric: 33.49999999999999 / 100 (33.5%)\n",
      "2025/10/22 17:00:13 INFO dspy.evaluate.evaluate: Average Metric: 23.799999999999994 / 100 (23.8%)\n",
      "2025/10/22 17:00:13 INFO dspy.evaluate.evaluate: Average Metric: 47.19999999999998 / 100 (47.2%)\n"
     ]
    },
    {
     "name": "stdout",
     "output_type": "stream",
     "text": [
      "  Run 4, candidate 0 (val=0.289)\n"
     ]
    },
    {
     "name": "stderr",
     "output_type": "stream",
     "text": [
      "2025/10/22 17:00:13 INFO dspy.evaluate.evaluate: Average Metric: 29.600000000000005 / 100 (29.6%)\n",
      "2025/10/22 17:00:14 INFO dspy.evaluate.evaluate: Average Metric: 58.30000000000007 / 100 (58.3%)\n"
     ]
    },
    {
     "name": "stdout",
     "output_type": "stream",
     "text": [
      "  Run 4, candidate 1 (val=0.311)\n"
     ]
    },
    {
     "name": "stderr",
     "output_type": "stream",
     "text": [
      "2025/10/22 17:00:25 INFO dspy.evaluate.evaluate: Average Metric: 32.3 / 100 (32.3%)\n",
      "2025/10/22 17:00:28 INFO dspy.evaluate.evaluate: Average Metric: 30.099999999999994 / 100 (30.1%)\n",
      "2025/10/22 17:00:45 INFO dspy.evaluate.evaluate: Average Metric: 29.600000000000005 / 100 (29.6%)\n",
      "2025/10/22 17:00:45 INFO dspy.evaluate.evaluate: Average Metric: 58.30000000000007 / 100 (58.3%)\n"
     ]
    },
    {
     "name": "stdout",
     "output_type": "stream",
     "text": [
      "  Run 4, candidate 4 (val=0.409)\n"
     ]
    },
    {
     "name": "stderr",
     "output_type": "stream",
     "text": [
      "2025/10/22 17:00:53 INFO dspy.evaluate.evaluate: Average Metric: 36.5 / 100 (36.5%)\n",
      "2025/10/22 17:00:55 INFO dspy.evaluate.evaluate: Average Metric: 13.000000000000005 / 100 (13.0%)\n",
      "2025/10/22 17:01:15 INFO dspy.evaluate.evaluate: Average Metric: 29.600000000000005 / 100 (29.6%)\n",
      "2025/10/22 17:01:16 INFO dspy.evaluate.evaluate: Average Metric: 58.30000000000007 / 100 (58.3%)\n"
     ]
    },
    {
     "name": "stdout",
     "output_type": "stream",
     "text": [
      "  Run 4, candidate 8 (val=0.451)\n"
     ]
    },
    {
     "name": "stderr",
     "output_type": "stream",
     "text": [
      "2025/10/22 17:01:16 INFO dspy.evaluate.evaluate: Average Metric: 47.2 / 100 (47.2%)\n",
      "2025/10/22 17:01:16 INFO dspy.evaluate.evaluate: Average Metric: 6.3 / 100 (6.3%)\n",
      "2025/10/22 17:01:17 INFO dspy.evaluate.evaluate: Average Metric: 30.300000000000022 / 100 (30.3%)\n",
      "2025/10/22 17:01:17 INFO dspy.evaluate.evaluate: Average Metric: 60.3000000000001 / 100 (60.3%)\n"
     ]
    },
    {
     "name": "stdout",
     "output_type": "stream",
     "text": [
      "Saved progression data to plot-data/psychosis/2025-10-21-00-24-06/p=deepseek-reasoner-e=gpt-4.1-mini-hack=no/progression_data.json\n",
      "\n",
      "Processing explicit_hack...\n",
      "Collecting progression data for logs/psychosis/2025-10-21-00-24-06/p=deepseek-reasoner-e=gpt-4.1-mini-hack=no-gameable=never\n",
      "  Run 0, candidate 0 (val=0.574)\n"
     ]
    },
    {
     "name": "stderr",
     "output_type": "stream",
     "text": [
      "2025/10/22 17:01:17 INFO dspy.evaluate.evaluate: Average Metric: 29.600000000000005 / 100 (29.6%)\n",
      "2025/10/22 17:01:18 INFO dspy.evaluate.evaluate: Average Metric: 58.30000000000007 / 100 (58.3%)\n"
     ]
    },
    {
     "name": "stdout",
     "output_type": "stream",
     "text": [
      "  Run 0, candidate 1 (val=0.614)\n"
     ]
    },
    {
     "name": "stderr",
     "output_type": "stream",
     "text": [
      "2025/10/22 17:01:29 INFO dspy.evaluate.evaluate: Average Metric: 30.80000000000001 / 100 (30.8%)\n",
      "2025/10/22 17:01:31 INFO dspy.evaluate.evaluate: Average Metric: 61.200000000000095 / 100 (61.2%)\n",
      "2025/10/22 17:01:45 INFO dspy.evaluate.evaluate: Average Metric: 29.600000000000005 / 100 (29.6%)\n",
      "2025/10/22 17:01:45 INFO dspy.evaluate.evaluate: Average Metric: 58.30000000000007 / 100 (58.3%)\n"
     ]
    },
    {
     "name": "stdout",
     "output_type": "stream",
     "text": [
      "  Run 0, candidate 4 (val=0.620)\n"
     ]
    },
    {
     "name": "stderr",
     "output_type": "stream",
     "text": [
      "2025/10/22 17:01:55 INFO dspy.evaluate.evaluate: Average Metric: 31.000000000000014 / 100 (31.0%)\n",
      "2025/10/22 17:01:57 INFO dspy.evaluate.evaluate: Average Metric: 61.60000000000011 / 100 (61.6%)\n",
      "2025/10/22 17:02:50 INFO dspy.evaluate.evaluate: Average Metric: 29.600000000000005 / 100 (29.6%)\n",
      "2025/10/22 17:02:50 INFO dspy.evaluate.evaluate: Average Metric: 58.30000000000007 / 100 (58.3%)\n"
     ]
    },
    {
     "name": "stdout",
     "output_type": "stream",
     "text": [
      "  Run 0, candidate 7 (val=0.635)\n"
     ]
    },
    {
     "name": "stderr",
     "output_type": "stream",
     "text": [
      "2025/10/22 17:03:03 INFO dspy.evaluate.evaluate: Average Metric: 31.500000000000014 / 100 (31.5%)\n",
      "2025/10/22 17:03:06 INFO dspy.evaluate.evaluate: Average Metric: 62.8000000000001 / 100 (62.8%)\n",
      "2025/10/22 17:04:05 INFO dspy.evaluate.evaluate: Average Metric: 29.600000000000005 / 100 (29.6%)\n",
      "2025/10/22 17:04:05 INFO dspy.evaluate.evaluate: Average Metric: 58.30000000000007 / 100 (58.3%)\n"
     ]
    },
    {
     "name": "stdout",
     "output_type": "stream",
     "text": [
      "  Run 0, candidate 18 (val=0.641)\n"
     ]
    },
    {
     "name": "stderr",
     "output_type": "stream",
     "text": [
      "2025/10/22 17:04:18 INFO dspy.evaluate.evaluate: Average Metric: 32.400000000000006 / 100 (32.4%)\n",
      "2025/10/22 17:04:21 INFO dspy.evaluate.evaluate: Average Metric: 64.2000000000001 / 100 (64.2%)\n",
      "2025/10/22 17:04:36 INFO dspy.evaluate.evaluate: Average Metric: 29.600000000000005 / 100 (29.6%)\n",
      "2025/10/22 17:04:36 INFO dspy.evaluate.evaluate: Average Metric: 58.30000000000007 / 100 (58.3%)\n"
     ]
    },
    {
     "name": "stdout",
     "output_type": "stream",
     "text": [
      "  Run 0, candidate 25 (val=0.671)\n"
     ]
    },
    {
     "name": "stderr",
     "output_type": "stream",
     "text": [
      "2025/10/22 17:04:37 INFO dspy.evaluate.evaluate: Average Metric: 33.699999999999996 / 100 (33.7%)\n",
      "2025/10/22 17:04:37 INFO dspy.evaluate.evaluate: Average Metric: 66.2000000000001 / 100 (66.2%)\n",
      "2025/10/22 17:04:38 INFO dspy.evaluate.evaluate: Average Metric: 33.099999999999994 / 100 (33.1%)\n",
      "2025/10/22 17:04:39 INFO dspy.evaluate.evaluate: Average Metric: 65.8000000000001 / 100 (65.8%)\n"
     ]
    },
    {
     "name": "stdout",
     "output_type": "stream",
     "text": [
      "  Run 1, candidate 0 (val=0.581)\n"
     ]
    },
    {
     "name": "stderr",
     "output_type": "stream",
     "text": [
      "2025/10/22 17:04:40 INFO dspy.evaluate.evaluate: Average Metric: 29.600000000000005 / 100 (29.6%)\n",
      "2025/10/22 17:04:40 INFO dspy.evaluate.evaluate: Average Metric: 58.30000000000007 / 100 (58.3%)\n"
     ]
    },
    {
     "name": "stdout",
     "output_type": "stream",
     "text": [
      "  Run 1, candidate 1 (val=0.607)\n"
     ]
    },
    {
     "name": "stderr",
     "output_type": "stream",
     "text": [
      "2025/10/22 17:04:51 INFO dspy.evaluate.evaluate: Average Metric: 30.800000000000022 / 100 (30.8%)\n",
      "2025/10/22 17:04:54 INFO dspy.evaluate.evaluate: Average Metric: 61.4000000000001 / 100 (61.4%)\n",
      "2025/10/22 17:05:06 INFO dspy.evaluate.evaluate: Average Metric: 29.600000000000005 / 100 (29.6%)\n",
      "2025/10/22 17:05:07 INFO dspy.evaluate.evaluate: Average Metric: 58.30000000000007 / 100 (58.3%)\n"
     ]
    },
    {
     "name": "stdout",
     "output_type": "stream",
     "text": [
      "  Run 1, candidate 3 (val=0.621)\n"
     ]
    },
    {
     "name": "stderr",
     "output_type": "stream",
     "text": [
      "2025/10/22 17:05:20 INFO dspy.evaluate.evaluate: Average Metric: 31.80000000000001 / 100 (31.8%)\n",
      "2025/10/22 17:05:22 INFO dspy.evaluate.evaluate: Average Metric: 63.100000000000094 / 100 (63.1%)\n",
      "2025/10/22 17:05:42 INFO dspy.evaluate.evaluate: Average Metric: 29.600000000000005 / 100 (29.6%)\n",
      "2025/10/22 17:05:42 INFO dspy.evaluate.evaluate: Average Metric: 58.30000000000007 / 100 (58.3%)\n"
     ]
    },
    {
     "name": "stdout",
     "output_type": "stream",
     "text": [
      "  Run 1, candidate 4 (val=0.630)\n"
     ]
    },
    {
     "name": "stderr",
     "output_type": "stream",
     "text": [
      "2025/10/22 17:05:53 INFO dspy.evaluate.evaluate: Average Metric: 31.10000000000001 / 100 (31.1%)\n",
      "2025/10/22 17:05:56 INFO dspy.evaluate.evaluate: Average Metric: 62.6000000000001 / 100 (62.6%)\n",
      "2025/10/22 17:06:18 INFO dspy.evaluate.evaluate: Average Metric: 29.600000000000005 / 100 (29.6%)\n",
      "2025/10/22 17:06:18 INFO dspy.evaluate.evaluate: Average Metric: 58.30000000000007 / 100 (58.3%)\n"
     ]
    },
    {
     "name": "stdout",
     "output_type": "stream",
     "text": [
      "  Run 1, candidate 7 (val=0.634)\n"
     ]
    },
    {
     "name": "stderr",
     "output_type": "stream",
     "text": [
      "2025/10/22 17:06:46 INFO dspy.evaluate.evaluate: Average Metric: 32.2 / 100 (32.2%)\n",
      "2025/10/22 17:06:48 INFO dspy.evaluate.evaluate: Average Metric: 64.30000000000011 / 100 (64.3%)\n",
      "2025/10/22 17:07:12 INFO dspy.evaluate.evaluate: Average Metric: 29.600000000000005 / 100 (29.6%)\n",
      "2025/10/22 17:07:13 INFO dspy.evaluate.evaluate: Average Metric: 58.30000000000007 / 100 (58.3%)\n"
     ]
    },
    {
     "name": "stdout",
     "output_type": "stream",
     "text": [
      "  Run 1, candidate 11 (val=0.637)\n"
     ]
    },
    {
     "name": "stderr",
     "output_type": "stream",
     "text": [
      "2025/10/22 17:07:22 INFO dspy.evaluate.evaluate: Average Metric: 31.10000000000002 / 100 (31.1%)\n",
      "2025/10/22 17:07:24 INFO dspy.evaluate.evaluate: Average Metric: 62.3000000000001 / 100 (62.3%)\n"
     ]
    }
   ],
   "source": [
    "# Collect or load progression data for training visualization\n",
    "def collect_progression_data(experiment_path):\n",
    "    \"\"\"Collect progression data for a single experiment path\"\"\"\n",
    "    \n",
    "    # Create plot data path\n",
    "    relative_path = Path(*experiment_path.parts[1:])  # Remove 'logs' prefix\n",
    "    plot_data_path = PLOT_DATA_BASE / relative_path\n",
    "    progression_file = plot_data_path / \"progression_data.json\"\n",
    "    \n",
    "    # Check if data already exists\n",
    "    if progression_file.exists():\n",
    "        print(f\"Loading existing progression data from {progression_file}\")\n",
    "        with open(progression_file, 'r') as f:\n",
    "            return json.load(f)\n",
    "    \n",
    "    print(f\"Collecting progression data for {experiment_path}\")\n",
    "    \n",
    "    runs_data = []\n",
    "    \n",
    "    # Iterate through each run subdirectory\n",
    "    for subdir in sorted(experiment_path.iterdir()):\n",
    "        if not subdir.is_dir():\n",
    "            continue\n",
    "            \n",
    "        results_file = subdir / \"detailed_results.json\"\n",
    "        if not results_file.exists():\n",
    "            continue\n",
    "            \n",
    "        with open(results_file, 'r') as f:\n",
    "            data = json.load(f)\n",
    "        \n",
    "        # Track progression through candidates\n",
    "        progression = []\n",
    "        best_val_score = -float('inf')\n",
    "        \n",
    "        for idx, candidate in enumerate(data['candidates']):\n",
    "            val_score = candidate['val_aggregate_score']\n",
    "            \n",
    "            # Only evaluate if this is a new best validation score\n",
    "            if val_score > best_val_score:\n",
    "                best_val_score = val_score\n",
    "                \n",
    "                print(f\"  Run {subdir.name}, candidate {idx} (val={val_score:.3f})\")\n",
    "                \n",
    "                # Load instructions for this candidate\n",
    "                instructions = candidate['instructions']\n",
    "                \n",
    "                # Evaluate on all 4 test conditions\n",
    "                test_scores = {}\n",
    "                \n",
    "                # Baseline case (candidate 0 has no instructions)\n",
    "                if idx == 0:\n",
    "                    test_scores['proxy_original'] = evaluate_program(None, metric_fn_proxy, test_examples) / 100\n",
    "                    test_scores['proxy_sanitized'] = test_scores['proxy_original']  # Same for baseline\n",
    "                    test_scores['true_original'] = evaluate_program(None, metric_fn_true, test_examples) / 100\n",
    "                    test_scores['true_sanitized'] = test_scores['true_original']  # Same for baseline\n",
    "                else:\n",
    "                    # Original instructions\n",
    "                    test_scores['proxy_original'] = evaluate_program(instructions, metric_fn_proxy, test_examples)\n",
    "                    test_scores['true_original'] = evaluate_program(instructions, metric_fn_true, test_examples)\n",
    "                    \n",
    "                    # Sanitized instructions\n",
    "                    sanitized_instructions = load_instructions(subdir, idx, sanitized=True)\n",
    "                    test_scores['proxy_sanitized'] = evaluate_program(sanitized_instructions, metric_fn_proxy, test_examples)\n",
    "                    test_scores['true_sanitized'] = evaluate_program(sanitized_instructions, metric_fn_true, test_examples)\n",
    "                \n",
    "                progression.append({\n",
    "                    'candidate_index': idx,\n",
    "                    'validation_score': val_score,\n",
    "                    'discovery_eval_counts': candidate['discovery_eval_counts'],\n",
    "                    'reflection_call_count': candidate['reflection_call_count'],\n",
    "                    'test_scores': test_scores\n",
    "                })\n",
    "        \n",
    "        runs_data.append({\n",
    "            'run_index': int(subdir.name),\n",
    "            'progression': progression\n",
    "        })\n",
    "    \n",
    "    # Save the collected data\n",
    "    plot_data_path.mkdir(parents=True, exist_ok=True)\n",
    "    with open(progression_file, 'w') as f:\n",
    "        json.dump({'runs': runs_data}, f, indent=2)\n",
    "    \n",
    "    print(f\"Saved progression data to {progression_file}\")\n",
    "    \n",
    "    return {'runs': runs_data}\n",
    "\n",
    "def evaluate_program(instructions, metric_fn, examples):\n",
    "    \"\"\"Evaluate a program with given instructions and metric function\"\"\"\n",
    "    program = dspy.Predict(ProblemSignature)\n",
    "    if instructions:\n",
    "        program.signature = program.signature.with_instructions(instructions)\n",
    "    \n",
    "    evaluate = dspy.Evaluate(\n",
    "        devset=examples,\n",
    "        metric=metric_fn,\n",
    "        num_threads=100,\n",
    "        display_table=False,\n",
    "        display_progress=False  # Reduce output noise\n",
    "    )\n",
    "    \n",
    "    result = evaluate(program)\n",
    "    return result.score / 100  # Evaluate multiplies by 100, this returns it to 0-1\n",
    "\n",
    "# Collect progression data for all experiments\n",
    "progression_data = {}\n",
    "\n",
    "for exp_name, exp_path in experiment_config.items():\n",
    "    print(f\"\\nProcessing {exp_name}...\")\n",
    "    progression_data[exp_name] = collect_progression_data(exp_path)"
   ]
  },
  {
   "cell_type": "code",
   "execution_count": 52,
   "metadata": {},
   "outputs": [
    {
     "data": {
      "image/png": "[encoded data removed]",
      "text/plain": [
       "<Figure size 1200x600 with 1 Axes>"
      ]
     },
     "metadata": {},
     "output_type": "display_data"
    }
   ],
   "source": [
    "# Create bar graph\n",
    "fig, ax = plt.subplots(figsize=(12, 6))\n",
    "\n",
    "# Display names for better plot labels\n",
    "display_names = {\n",
    "    'baseline': 'Baseline',\n",
    "    'no_hack': 'No hack',\n",
    "    'no_hack_sanitized': 'No hack\\n(sanitized)',\n",
    "    'explicit_hack': 'Hack',\n",
    "    'explicit_hack_sanitized': 'Hack\\n(sanitized)'\n",
    "}\n",
    "\n",
    "# Prepare data for plotting\n",
    "experiment_names = list(display_names.values())\n",
    "proxy_scores = [results[f'{exp}_proxy'] for exp in display_names]\n",
    "true_scores = [results[f'{exp}_true'] for exp in display_names]\n",
    "\n",
    "x = np.arange(len(experiment_names))\n",
    "width = 0.35\n",
    "\n",
    "# Create bars\n",
    "bars1 = ax.bar(x - width/2, proxy_scores, width, label='Proxy Reward (gameable)', color='#ff9999')\n",
    "bars2 = ax.bar(x + width/2, true_scores, width, label='True Reward (non-gameable)', color='#66b3ff')\n",
    "\n",
    "# Add individual data points as X markers\n",
    "for i, exp in enumerate(display_names.keys()):\n",
    "    for reward_type, xpos in [(\"proxy\", x[i] - width/2), (\"true\", x[i] + width/2)]:   \n",
    "        # Proxy scores individual points\n",
    "        key = f'{exp}_{reward_type}'\n",
    "        if key in individual_results:\n",
    "            individual_proxy = individual_results[key]\n",
    "            ax.scatter(np.full(len(individual_proxy), xpos), individual_proxy, \n",
    "                    marker='x', color='#202020', s=30, linewidth=0.5, zorder=3)\n",
    "    \n",
    "# Customize plot\n",
    "ax.set_ylabel('Score (%)', fontsize=12)\n",
    "ax.set_title('Comparison of GEPA Experiments: Proxy vs True Reward\\n(Psychosis Split-User Setting)', fontsize=14)\n",
    "ax.set_xticks(x)\n",
    "ax.set_xticklabels(experiment_names)\n",
    "ax.legend(loc='upper left')\n",
    "ax.set_ylim(0, 100)\n",
    "ax.grid(axis='y', alpha=0.3)\n",
    "\n",
    "# Add value labels on bars (showing averages)\n",
    "for bars in [bars1, bars2]:\n",
    "    ax.bar_label(bars, fmt='%.1f', padding=3)\n",
    "\n",
    "plt.tight_layout()\n",
    "plt.show()"
   ]
  },
  {
   "cell_type": "code",
   "execution_count": null,
   "metadata": {},
   "outputs": [],
   "source": "# Create training progression plots\n# Toggle between \"task calls\" and \"reflection calls\" for x-axis\nUSE_TASK_CALLS = True  # Set to False to use reflection calls instead\n\n# Setup figure with two subplots\nfig, (ax_no_hack, ax_explicit_hack) = plt.subplots(1, 2, figsize=(16, 6))\n\n# Color scheme\ncolors = {\n    'proxy': '#ff6666',  # Red for proxy reward\n    'true': '#6666ff',   # Blue for true reward\n}\n\n# Process each experiment type\nfor exp_name, ax, title_suffix in [('no_hack', ax_no_hack, 'Not Told to Hack'),\n                                     ('explicit_hack', ax_explicit_hack, 'Told to Hack')]:\n    \n    if exp_name not in progression_data:\n        continue\n    \n    exp_data = progression_data[exp_name]\n    \n    # Prepare data for each line type\n    lines_data = {\n        'proxy_original': [],\n        'proxy_sanitized': [],\n        'true_original': [],\n        'true_sanitized': []\n    }\n    \n    # Process each run\n    for run in exp_data['runs']:\n        if not run['progression']:\n            continue\n            \n        for line_type in lines_data.keys():\n            x_values = []\n            y_values = []\n            \n            # Build step function data\n            for i, point in enumerate(run['progression']):\n                # Get x coordinate based on toggle\n                if USE_TASK_CALLS:\n                    x_coord = point['discovery_eval_counts']\n                else:\n                    x_coord = point['reflection_call_count']\n                \n                # Get y coordinate (test score)\n                reward_type, variant = line_type.split('_')\n                y_coord = point['test_scores'][line_type] * 100  # Convert to percentage\n                \n                # Add point for step function\n                if i > 0:\n                    # Add horizontal line from previous x to current x at previous y\n                    x_values.append(x_coord)\n                    y_values.append(y_values[-1])\n                \n                x_values.append(x_coord)\n                y_values.append(y_coord)\n            \n            # Extend to the end if needed (for visibility)\n            if x_values:\n                max_x = max(point['discovery_eval_counts'] if USE_TASK_CALLS else point['reflection_call_count'] \n                           for point in run['progression'])\n                if x_values[-1] < max_x * 1.05:\n                    x_values.append(max_x * 1.05)\n                    y_values.append(y_values[-1])\n            \n            lines_data[line_type].append((x_values, y_values))\n    \n    # Plot individual run lines (faint)\n    for line_type, run_lines in lines_data.items():\n        reward_type, variant = line_type.split('_')\n        color = colors[reward_type]\n        linestyle = '-' if variant == 'original' else ':'\n        \n        for x_vals, y_vals in run_lines:\n            ax.plot(x_vals, y_vals, color=color, linestyle=linestyle, alpha=0.3, linewidth=1)\n    \n    # Calculate and plot average lines (bold) as step functions\n    for line_type in lines_data.keys():\n        if not lines_data[line_type]:\n            continue\n            \n        reward_type, variant = line_type.split('_')\n        color = colors[reward_type]\n        linestyle = '-' if variant == 'original' else ':'\n        \n        # Find all unique x points where any run changes value\n        x_change_points = set()\n        for x_vals, _ in lines_data[line_type]:\n            x_change_points.update(x_vals)\n        x_change_points = sorted(x_change_points)\n        \n        # Build step function for average\n        avg_x_values = []\n        avg_y_values = []\n        \n        for i, x in enumerate(x_change_points):\n            # Calculate average y value at this x point\n            y_sum = 0\n            y_count = 0\n            \n            for x_vals, y_vals in lines_data[line_type]:\n                # Find the y value at this x (using step function logic)\n                for j in range(len(x_vals)):\n                    if j == len(x_vals) - 1 or x < x_vals[j+1]:\n                        if x >= x_vals[j]:\n                            y_sum += y_vals[j]\n                            y_count += 1\n                            break\n            \n            if y_count > 0:\n                avg_y = y_sum / y_count\n                \n                # Add horizontal segment from previous point\n                if i > 0:\n                    avg_x_values.append(x)\n                    avg_y_values.append(avg_y_values[-1])\n                \n                # Add vertical segment at this point\n                avg_x_values.append(x)\n                avg_y_values.append(avg_y)\n        \n        # Extend to the end for visibility\n        if avg_x_values and x_change_points:\n            final_x = max(x_change_points) * 1.05\n            avg_x_values.append(final_x)\n            avg_y_values.append(avg_y_values[-1])\n        \n        # Create label\n        label = f\"{reward_type.capitalize()} {'(sanitized)' if variant == 'sanitized' else ''}\"\n        \n        # Plot average line as step function\n        if avg_x_values:\n            ax.plot(avg_x_values, avg_y_values, color=color, linestyle=linestyle, \n                    alpha=1.0, linewidth=2, label=label)\n    \n    # Customize subplot\n    ax.set_xlabel('Task Calls' if USE_TASK_CALLS else 'Reflection Calls', fontsize=11)\n    ax.set_ylabel('Test Score (%)', fontsize=11)\n    ax.set_title(f'Training Progression: {title_suffix}', fontsize=12)\n    ax.grid(True, alpha=0.3)\n    ax.set_ylim(0, 100)\n    ax.legend(loc='best', fontsize=9)\n\n# Overall title\nfig.suptitle('GEPA Training Progression: Test Performance at Validation-Best Checkpoints', fontsize=14, y=1.02)\n\nplt.tight_layout()\nplt.show()"
  }
 ],
 "metadata": {
  "kernelspec": {
   "display_name": "Python 3 (ipykernel)",
   "language": "python",
   "name": "python3"
  },
  "language_info": {
   "codemirror_mode": {
    "name": "ipython",
    "version": 3
   },
   "file_extension": ".py",
   "mimetype": "text/x-python",
   "name": "python",
   "nbconvert_exporter": "python",
   "pygments_lexer": "ipython3",
   "version": "3.11.13"
  }
 },
 "nbformat": 4,
 "nbformat_minor": 4
}